{
 "cells": [
  {
   "cell_type": "markdown",
   "metadata": {},
   "source": [
    "### Comparing Different Frameworks of Recurrent Neural Network Using Bike Rental Data (SimpleRNN, LSTM and GRU)"
   ]
  },
  {
   "cell_type": "markdown",
   "metadata": {},
   "source": [
    "## Description of Data\n",
    "\n",
    "The data contains variables that relate to a daily Bike sharing system. It contains variables that possibly influence the number of rentals in a typical day. Explanations of some variables are the current season, if the day is a holiday or not, the month, the day of the week, the average temperature, windspeed and humidity of the day, etc.\n",
    "\n",
    "The data is 2 years daily data. The number of samples is 731. We have split it into 631, 100, as train, and test data respectively\n"
   ]
  },
  {
   "cell_type": "code",
   "execution_count": 1,
   "metadata": {},
   "outputs": [],
   "source": [
    "# loading libraries\n",
    "import pandas as pd\n",
    "import matplotlib.pyplot as plt\n",
    "from numpy import array\n",
    "import keras\n",
    "from numpy import hstack\n",
    "from keras.models import Sequential\n",
    "from keras.layers import Dense\n",
    "from keras.layers import LSTM\n",
    "from keras.layers import GRU\n",
    "from keras.layers import RNN, SimpleRNN\n",
    "from keras.preprocessing.sequence import TimeseriesGenerator\n",
    "from keras.layers import Dropout\n",
    "from keras.callbacks import LambdaCallback\n",
    "from sklearn.preprocessing import MinMaxScaler\n",
    "from tensorflow.keras.optimizers import Adam"
   ]
  },
  {
   "cell_type": "markdown",
   "metadata": {},
   "source": [
    "## The Models\n",
    "The SImpleRNN, Long Short-Term Memory model, and Gated Recurrent Unit of Recurrent Neural Network (RNN) were used in this report.  The models featured 4 nodes. Each batch comprises 10 timesteps, utilizing the Relu activation function for output layers. The optimizer is set to adam, with a mean squared error loss function. A learning rate of 0.0001 is applied, and the model undergoes training for 500 epochs."
   ]
  },
  {
   "cell_type": "code",
   "execution_count": 5,
   "metadata": {},
   "outputs": [],
   "source": [
    "import warnings\n",
    "warnings.filterwarnings('ignore')\n",
    "\n",
    "# loading data\n",
    "dat = pd.read_csv(\"day.csv\")\n",
    "temp = dat[dat.yr == 1]\n",
    "temp = temp[temp.mnth == 10]\n",
    "dat['cnt'][667] = 6414\n",
    "dat['cnt'][668] = 6414"
   ]
  },
  {
   "cell_type": "code",
   "execution_count": null,
   "metadata": {},
   "outputs": [],
   "source": [
    "# Processing data\n"
   ]
  }
 ],
 "metadata": {
  "kernelspec": {
   "display_name": ".venv",
   "language": "python",
   "name": "python3"
  },
  "language_info": {
   "codemirror_mode": {
    "name": "ipython",
    "version": 3
   },
   "file_extension": ".py",
   "mimetype": "text/x-python",
   "name": "python",
   "nbconvert_exporter": "python",
   "pygments_lexer": "ipython3",
   "version": "3.11.4"
  }
 },
 "nbformat": 4,
 "nbformat_minor": 2
}
